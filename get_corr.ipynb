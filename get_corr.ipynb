{
 "cells": [
  {
   "cell_type": "code",
   "execution_count": 10,
   "metadata": {},
   "outputs": [],
   "source": [
    "import pandas as pd\n",
    "from scipy.stats import t\n",
    "from math import sqrt\n",
    "\n",
    "# Read the players file\n",
    "players_df = pd.read_csv('nbadata/players.csv')\n",
    "\n",
    "# Read the correlation file\n",
    "metrics_df = pd.read_csv('nbaanalytics/player_correlations_spearman.csv', index_col=[0, 1])\n",
    "\n",
    "# Read the relationships file\n",
    "relationships_df = pd.read_json('nbaanalytics/player_relationships.json')\n",
    "\n",
    "# Read the teams file\n",
    "teams_df = pd.read_csv('nbadata/teams.csv')"
   ]
  },
  {
   "cell_type": "code",
   "execution_count": 11,
   "metadata": {},
   "outputs": [],
   "source": [
    "# Create a dictionary to map player names to IDs\n",
    "player_name_to_id = dict(zip(players_df.PLAYER_NAME, players_df.PLAYER_ID))"
   ]
  },
  {
   "cell_type": "code",
   "execution_count": 12,
   "metadata": {},
   "outputs": [],
   "source": [
    "def get_metrics_for_players(player1_name, player2_name):\n",
    "    # Convert player names to IDs\n",
    "    player1_id = player_name_to_id.get(player1_name)\n",
    "    player2_id = player_name_to_id.get(player2_name)\n",
    "\n",
    "\n",
    "    if player1_id is None:\n",
    "        return f\"Player 1 ({player1_name}) not found.\", None\n",
    "    \n",
    "    if player2_id is None:\n",
    "        return f\"Player 2 ({player2_name}) not found.\", None\n",
    "\n",
    "    query_string = f\"({player1_id}, {player2_id})\"\n",
    "    metrics = metrics_df.columns\n",
    "\n",
    "    # Fetch the metrics for the player pair\n",
    "    try:\n",
    "        # return the metrics for every metric 'REB', 'AST', 'STL', or 'PTS'\n",
    "        player_pair_metrics = metrics_df.loc[query_string, metrics]\n",
    "        games_together = relationships_df.loc[player1_id, player2_id]['num_games']\n",
    "        return player_pair_metrics, games_together\n",
    "    except KeyError:\n",
    "        return \"Metrics not found for the given player pair.\", None\n",
    "\n",
    "def spearman_pvalue(rho, n):\n",
    "    if n < 3:\n",
    "        return 1.0\n",
    "\n",
    "    t_stat = rho * sqrt((n-2)/(1-rho**2))\n",
    "    p_value = 2 * t.sf(abs(t_stat), n-2)\n",
    "    return p_value"
   ]
  },
  {
   "cell_type": "code",
   "execution_count": 13,
   "metadata": {},
   "outputs": [],
   "source": [
    "from scipy.stats import mvn\n",
    "import numpy as np\n",
    "def calculate_probability(corr):\n",
    "    rho = abs(corr)\n",
    "    mean = np.array([0, 0])\n",
    "    cov = np.array([[1, rho], [rho, 1]])\n",
    "        \n",
    "    lower = np.array([0, 0])\n",
    "    upper = np.array([np.inf, np.inf])\n",
    "\n",
    "    prob, _ = mvn.mvnun(lower, upper, mean, cov)\n",
    "    conditional_prob = prob / .5\n",
    "    return conditional_prob"
   ]
  },
  {
   "cell_type": "code",
   "execution_count": 14,
   "metadata": {},
   "outputs": [
    {
     "name": "stdout",
     "output_type": "stream",
     "text": [
      "             REB       AST       STL       PTS\n",
      "Metric                                        \n",
      "REB    -0.223002 -0.098039 -0.648204 -0.883354\n",
      "AST     0.171878  0.250046 -0.385046  0.006212\n",
      "STL     0.183394  0.171626 -0.476442 -0.009593\n",
      "PTS     0.114200 -0.329279  0.198868 -0.067485\n",
      "Number of games played together: 12\n"
     ]
    }
   ],
   "source": [
    "\n",
    "\n",
    "# Example usage\n",
    "player1 = \"Fred VanVleet\"\n",
    "player2 = \"Max Strus\"\n",
    "\n",
    "player1_id = player_name_to_id.get(player1)\n",
    "player2_id = player_name_to_id.get(player2)\n",
    "\n",
    "result, num_games = get_metrics_for_players(player1, player2)\n",
    "print(result)\n",
    "print(\"Number of games played together:\", num_games)\n"
   ]
  },
  {
   "cell_type": "code",
   "execution_count": 15,
   "metadata": {},
   "outputs": [],
   "source": [
    "teams = []\n",
    "while True:\n",
    "    players = input(\"Enter players: \").split(\", \")\n",
    "    if players == ['']:\n",
    "        break\n",
    "    teams.append(players)\n",
    "paired_teams = [teams[i:i+2] for i in range(0, len(teams), 2)]"
   ]
  },
  {
   "cell_type": "code",
   "execution_count": 23,
   "metadata": {},
   "outputs": [
    {
     "name": "stdout",
     "output_type": "stream",
     "text": [
      "[[['Jamal Murray', 'Nikola Jokic'], ['Derrick Jones Jr.', 'Grant Williams']], [['Collin Sexton'], ['Mikal Bridges']]]\n",
      "Number of player pairs: 5\n",
      "dict_keys([('Derrick Jones Jr.', 'Jamal Murray'), ('Derrick Jones Jr.', 'Nikola Jokic'), ('Grant Williams', 'Jamal Murray'), ('Grant Williams', 'Nikola Jokic'), ('Collin Sexton', 'Mikal Bridges')])\n",
      "\n",
      "MATCH | Derrick Jones Jr.: REB, Jamal Murray: PTS \n",
      "Games: 10 | p-value: 0.004326271821339064 | Correlation: 0.812 | Probability: 0.802\n",
      "\n",
      "\n",
      "OPPOSITE | Derrick Jones Jr.: AST, Jamal Murray: STL \n",
      "Games: 10 | p-value: 8.126898130186776e-05 | Correlation: -0.933 | Probability: 0.883\n",
      "\n",
      "\n",
      "OPPOSITE | Derrick Jones Jr.: AST, Jamal Murray: PTS \n",
      "Games: 10 | p-value: 0.0007829830656000007 | Correlation: -0.88 | Probability: 0.842\n",
      "\n",
      "\n",
      "MATCH | Derrick Jones Jr.: PTS, Jamal Murray: REB \n",
      "Games: 10 | p-value: 0.000503071955486779 | Correlation: 0.893 | Probability: 0.851\n",
      "\n",
      "\n",
      "MATCH | Derrick Jones Jr.: REB, Nikola Jokic: AST \n",
      "Games: 18 | p-value: 0.00015344585802384397 | Correlation: 0.776 | Probability: 0.783\n",
      "\n",
      "\n",
      "OPPOSITE | Grant Williams: REB, Nikola Jokic: REB \n",
      "Games: 7 | p-value: 0.007420532540555689 | Correlation: -0.889 | Probability: 0.849\n",
      "\n",
      "\n",
      "MATCH | Collin Sexton: AST, Mikal Bridges: PTS \n",
      "Games: 7 | p-value: 0.014677779535165057 | Correlation: 0.853 | Probability: 0.825\n",
      "\n",
      "\n",
      "MATCH | Collin Sexton: PTS, Mikal Bridges: PTS \n",
      "Games: 7 | p-value: 0.0008052566912629972 | Correlation: 0.955 | Probability: 0.904\n",
      "\n"
     ]
    },
    {
     "name": "stderr",
     "output_type": "stream",
     "text": [
      "/tmp/ipykernel_5475/2079224226.py:11: DeprecationWarning: Please use `mvnun` from the `scipy.stats` namespace, the `scipy.stats.mvn` namespace is deprecated.\n",
      "  prob, _ = mvn.mvnun(lower, upper, mean, cov)\n",
      "/tmp/ipykernel_5475/1889618539.py:29: RuntimeWarning: divide by zero encountered in scalar divide\n",
      "  t_stat = rho * sqrt((n-2)/(1-rho**2))\n"
     ]
    }
   ],
   "source": [
    "print(paired_teams)\n",
    "metrics = ['REB', 'AST', 'PTS']\n",
    "player_pair_metrics = {}\n",
    "for team1, team2 in paired_teams:\n",
    "# Get metrics for each player pair on opposing teams\n",
    "    player_pairs = [sorted((player1, player2)) for player1 in team1 for player2 in team2]\n",
    "    player_pairs = set(tuple(player_pair) for player_pair in player_pairs)\n",
    "    player_pair_metric = {player_pair: get_metrics_for_players(player_pair[0], player_pair[1]) for player_pair in player_pairs}\n",
    "    player_pair_metrics.update(player_pair_metric)\n",
    "\n",
    "# Remove all player pairs with no metrics\n",
    "for player_pair, metric in list(player_pair_metrics.items()):\n",
    "    if type(metric[0]) == str:\n",
    "        del player_pair_metrics[player_pair]\n",
    "\n",
    "num_metrics = len(metrics)\n",
    "\n",
    "# print in the following format: player1, player2, metric, value (if value > .66)\n",
    "threshold = .7\n",
    "num_comparisons = 0\n",
    "comparable_pairs = {}\n",
    "for player_pair, metric in player_pair_metrics.items():\n",
    "    df = metric[0]\n",
    "    num_games = metric[1]\n",
    "    \n",
    "    p1 = player_pair[0]\n",
    "    p2 = player_pair[1]\n",
    "\n",
    "    for index in df.index:\n",
    "        for column in df.columns:\n",
    "            val = round(df.at[index, column], 3)\n",
    "            probability = round(calculate_probability(val), 3)\n",
    "            ev = round(probability * 1.5, 3)\n",
    "            p_value = spearman_pvalue(val, num_games)\n",
    "            if abs(val) > threshold and p_value < .05 and num_games > 5:\n",
    "                num_comparisons += 1\n",
    "                comparable_pairs[(p1, p2, index, column)] = (val, probability, ev, num_games, p_value)\n",
    "            #     if val > 0:\n",
    "            #         print(f\"\\nMATCH | {p1}: {index}, {p2}: {column} \\nGames: {num_games} | p-value: {p_value} | Correlation: {val} | Probability: {probability}\\n\")\n",
    "            #     else:\n",
    "            #         print(f\"\\nOPPOSITE | {p1}: {index}, {p2}: {column} \\nGames: {num_games} | p-value: {p_value} | Correlation: {val} | Probability: {probability}\\n\")\n",
    "                \n",
    "# Now that we have a list of comparable pairs, we need to perform the Holm-Bonferroni correction\n",
    "# Sort the pairs by correlation\n",
    "sorted_pairs = sorted(comparable_pairs.items(), key=lambda x: x[1][0], reverse=True)\n",
    "print(sorted_pairs)"
   ]
  },
  {
   "cell_type": "markdown",
   "metadata": {},
   "source": [
    "Work to do: Holm-Bonferroni correction.\n",
    "\n",
    "You need to implement batching so you can appropriately do the correction"
   ]
  },
  {
   "cell_type": "markdown",
   "metadata": {},
   "source": []
  }
 ],
 "metadata": {
  "kernelspec": {
   "display_name": "Python 3",
   "language": "python",
   "name": "python3"
  },
  "language_info": {
   "codemirror_mode": {
    "name": "ipython",
    "version": 3
   },
   "file_extension": ".py",
   "mimetype": "text/x-python",
   "name": "python",
   "nbconvert_exporter": "python",
   "pygments_lexer": "ipython3",
   "version": "3.10.12"
  }
 },
 "nbformat": 4,
 "nbformat_minor": 2
}
