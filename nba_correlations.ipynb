{
 "cells": [
  {
   "cell_type": "code",
   "execution_count": 1,
   "metadata": {},
   "outputs": [
    {
     "name": "stderr",
     "output_type": "stream",
     "text": [
      "/tmp/ipykernel_7667/941171487.py:6: DtypeWarning: Columns (6) have mixed types. Specify dtype option on import or set low_memory=False.\n",
      "  games_details = pd.read_csv('nbadata/games_details.csv')\n"
     ]
    }
   ],
   "source": [
    "import pandas as pd\n",
    "import gc\n",
    "\n",
    "# Step 1: Load your data\n",
    "# Replace 'your_filepath' with the path to your CSV file\n",
    "games_details = pd.read_csv('nbadata/games_details.csv')\n",
    "# Replace 'your_player_mapping_filepath' with the path to your player mapping file\n",
    "player_mapping = pd.read_json('nbaanalytics/player_relationships.json')"
   ]
  },
  {
   "cell_type": "code",
   "execution_count": 2,
   "metadata": {},
   "outputs": [],
   "source": [
    "games_details.set_index('GAME_ID', inplace=True)\n",
    "\n",
    "# filter out records with num_games < n\n",
    "def filter_player_mapping(player_mapping):\n",
    "    return player_mapping.applymap(lambda x: x if type(x) != type(float('nan')) and x['num_games'] >= 1 else None)\n",
    "\n",
    "# Step 2: Filter the player_mapping table\n",
    "# Filter out records with num_games < 10\n",
    "player_mapping = filter_player_mapping(player_mapping)"
   ]
  },
  {
   "cell_type": "code",
   "execution_count": 3,
   "metadata": {},
   "outputs": [
    {
     "name": "stdout",
     "output_type": "stream",
     "text": [
      "1901641\n"
     ]
    },
    {
     "name": "stderr",
     "output_type": "stream",
     "text": [
      "  0%|          | 0/10 [00:00<?, ?it/s]"
     ]
    }
   ],
   "source": [
    "from concurrent.futures import ProcessPoolExecutor\n",
    "import warnings\n",
    "from tqdm import tqdm\n",
    "\n",
    "# Disabling runtime warnings for numpy\n",
    "warnings.filterwarnings('ignore', category=RuntimeWarning)\n",
    "def process_pair_wrapper(pair):\n",
    "    return process_player_pair(*pair)\n",
    "\n",
    "# Function to filter games_details for a pair of players and return their stats\n",
    "def get_player_pair_stats(player1_id, player2_id):\n",
    "    games_player1 = games_details[(games_details['PLAYER_ID'] == player1_id) & (games_details.index.isin(player_mapping[player1_id][player2_id]['game_ids']))]\n",
    "    games_player2 = games_details[(games_details['PLAYER_ID'] == player2_id) & (games_details.index.isin(player_mapping[player1_id][player2_id]['game_ids']))]\n",
    "\n",
    "    relevant_stats = ['REB', 'AST', 'STL', 'PTS']\n",
    "    player1_stats = games_player1[relevant_stats]\n",
    "    player2_stats = games_player2[relevant_stats]\n",
    "\n",
    "    games_player1 = None\n",
    "    gamers_player2 = None\n",
    "\n",
    "    return player1_stats, player2_stats\n",
    "\n",
    "# Function to process each player pair - extracted from the double for loop\n",
    "def process_player_pair(player1_id, player2_id):\n",
    "    if not player_mapping[player1_id][player2_id]:\n",
    "        return None\n",
    "    player1_stats, player2_stats = get_player_pair_stats(int(player1_id), int(player2_id))\n",
    "\n",
    "    nan_indices = player1_stats[player1_stats.isna().any(axis=1)].index.union(\n",
    "        player2_stats[player2_stats.isna().any(axis=1)].index\n",
    "    )\n",
    "\n",
    "    player1_stats.drop(nan_indices, inplace=True)\n",
    "    player2_stats.drop(nan_indices, inplace=True)\n",
    "\n",
    "    correlations = pd.DataFrame(index=player1_stats.columns, columns=player2_stats.columns)\n",
    "    for col1 in player1_stats.columns:\n",
    "        for col2 in player2_stats.columns:\n",
    "            correlations.at[col1, col2] = player1_stats[col1].corr(player2_stats[col2])\n",
    "\n",
    "    player1_stats = None\n",
    "    player2_stats = None\n",
    "\n",
    "    return ((player1_id, player2_id), correlations)\n",
    "\n",
    "# Function to parallelize processing with batch processing and limited workers\n",
    "def parallel_process_player_pairs(player_mapping, batch_size=200000):\n",
    "    correlation_table = {}\n",
    "\n",
    "    player_pairs = list(set(sorted([(player1_id, player2_id)\n",
    "                    for player1_id in player_mapping.index\n",
    "                    for player2_id in player_mapping[player1_id].index])))\n",
    "    print(len(player_pairs))\n",
    "\n",
    "    for i in tqdm(range(0, len(player_pairs), batch_size)):\n",
    "        batch_pairs = player_pairs[i:i + batch_size]\n",
    "        with ProcessPoolExecutor() as executor:\n",
    "            results = executor.map(process_pair_wrapper, batch_pairs)\n",
    "            for result in results:\n",
    "                if result is not None:\n",
    "                    correlation_table[result[0]] = result[1]\n",
    "\n",
    "        # Explicitly call garbage collector\n",
    "        gc.collect()\n",
    "\n",
    "    return correlation_table\n",
    "\n",
    "# Main processing with batch processing\n",
    "correlation_table = parallel_process_player_pairs(player_mapping)\n",
    "\n",
    "# Convert the correlation table to a dataframe and write to CSV\n",
    "flattened_data = []\n",
    "for players, df in correlation_table.items():\n",
    "    for index, row in df.iterrows():\n",
    "        flattened_data.append([players, index] + row.tolist())\n",
    "\n",
    "columns = ['Player Pair', 'Metric'] + df.columns.tolist()\n",
    "flattened_df = pd.DataFrame(flattened_data, columns=columns)\n",
    "flattened_df.set_index(['Player Pair', 'Metric'], inplace=True)\n",
    "\n",
    "file_path = 'nbaanalytics/player_correlations_parallel.csv'\n",
    "flattened_df.to_csv(file_path)\n"
   ]
  }
 ],
 "metadata": {
  "kernelspec": {
   "display_name": "Python 3",
   "language": "python",
   "name": "python3"
  },
  "language_info": {
   "codemirror_mode": {
    "name": "ipython",
    "version": 3
   },
   "file_extension": ".py",
   "mimetype": "text/x-python",
   "name": "python",
   "nbconvert_exporter": "python",
   "pygments_lexer": "ipython3",
   "version": "3.10.12"
  }
 },
 "nbformat": 4,
 "nbformat_minor": 2
}
